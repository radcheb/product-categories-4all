{
 "cells": [
  {
   "cell_type": "code",
   "execution_count": 1,
   "id": "5cc0f933",
   "metadata": {},
   "outputs": [],
   "source": [
    "from categories_classification.paths import get_products_categories_dir\n",
    "from pyspark.sql  import SparkSession"
   ]
  },
  {
   "cell_type": "code",
   "execution_count": 2,
   "id": "4900dc43",
   "metadata": {},
   "outputs": [],
   "source": [
    "client_id = \"client_0\""
   ]
  },
  {
   "cell_type": "code",
   "execution_count": 3,
   "id": "8dd76377",
   "metadata": {},
   "outputs": [],
   "source": [
    "categories_uri = \"data/products_categories\"\n"
   ]
  },
  {
   "cell_type": "code",
   "execution_count": 4,
   "id": "6bb94e39",
   "metadata": {},
   "outputs": [
    {
     "name": "stderr",
     "output_type": "stream",
     "text": [
      "21/10/20 17:20:37 WARN Utils: Your hostname, MacBook-Pro.local resolves to a loopback address: 127.0.0.1; using 192.168.1.105 instead (on interface en0)\n",
      "21/10/20 17:20:37 WARN Utils: Set SPARK_LOCAL_IP if you need to bind to another address\n",
      "Using Spark's default log4j profile: org/apache/spark/log4j-defaults.properties\n",
      "Setting default log level to \"WARN\".\n",
      "To adjust logging level use sc.setLogLevel(newLevel). For SparkR, use setLogLevel(newLevel).\n",
      "21/10/20 17:20:38 WARN NativeCodeLoader: Unable to load native-hadoop library for your platform... using builtin-java classes where applicable\n",
      "21/10/20 17:20:40 WARN Utils: Service 'SparkUI' could not bind on port 4040. Attempting port 4041.\n"
     ]
    }
   ],
   "source": [
    "spark = SparkSession.builder.getOrCreate()"
   ]
  },
  {
   "cell_type": "code",
   "execution_count": 5,
   "id": "85e64e83",
   "metadata": {},
   "outputs": [
    {
     "name": "stderr",
     "output_type": "stream",
     "text": [
      "                                                                                \r"
     ]
    },
    {
     "name": "stdout",
     "output_type": "stream",
     "text": [
      "root\n",
      " |-- product_id: string (nullable = true)\n",
      " |-- pred_label: string (nullable = true)\n",
      " |-- pred_score: float (nullable = true)\n",
      " |-- rank: integer (nullable = true)\n",
      " |-- client_id: string (nullable = true)\n",
      " |-- date: string (nullable = true)\n",
      "\n"
     ]
    }
   ],
   "source": [
    "categories_df = spark.read.parquet(categories_uri)\n",
    "categories_df.printSchema()"
   ]
  },
  {
   "cell_type": "code",
   "execution_count": 6,
   "id": "548aff2a",
   "metadata": {},
   "outputs": [
    {
     "name": "stderr",
     "output_type": "stream",
     "text": [
      "\r",
      "[Stage 1:>                                                          (0 + 1) / 1]\r"
     ]
    },
    {
     "name": "stdout",
     "output_type": "stream",
     "text": [
      "+--------------------+----------+-----------+----+---------+--------------------+\n",
      "|          product_id|pred_label| pred_score|rank|client_id|                date|\n",
      "+--------------------+----------+-----------+----+---------+--------------------+\n",
      "|0f10ddd3-6fa1-4b5...|   c0_8384| 0.12666667|   0| client_0|2021-10-18T12:23:...|\n",
      "|0f10ddd3-6fa1-4b5...|   c0_1890|0.093333334|   1| client_0|2021-10-18T12:23:...|\n",
      "|0f10ddd3-6fa1-4b5...|  c0_15312|0.086666666|   2| client_0|2021-10-18T12:23:...|\n",
      "|0f10ddd3-6fa1-4b5...|  c0_10386| 0.07666667|   3| client_0|2021-10-18T12:23:...|\n",
      "|0f10ddd3-6fa1-4b5...|  c0_11137| 0.06666667|   4| client_0|2021-10-18T12:23:...|\n",
      "|328d17ff-a79f-490...|   c0_7538|  0.5566667|   0| client_0|2021-10-18T12:23:...|\n",
      "|328d17ff-a79f-490...|  c0_10386| 0.20333333|   1| client_0|2021-10-18T12:23:...|\n",
      "|328d17ff-a79f-490...|  c0_10376| 0.07333333|   2| client_0|2021-10-18T12:23:...|\n",
      "|328d17ff-a79f-490...|   c0_3080|0.053333335|   3| client_0|2021-10-18T12:23:...|\n",
      "|328d17ff-a79f-490...|   c0_7024|0.053333335|   4| client_0|2021-10-18T12:23:...|\n",
      "|34b6ba49-972d-4aa...|   c0_3056| 0.49666667|   0| client_0|2021-10-18T12:23:...|\n",
      "|34b6ba49-972d-4aa...|   c0_2887| 0.20333333|   1| client_0|2021-10-18T12:23:...|\n",
      "|34b6ba49-972d-4aa...|   c0_2893| 0.06666667|   2| client_0|2021-10-18T12:23:...|\n",
      "|34b6ba49-972d-4aa...|   c0_2892|       0.06|   3| client_0|2021-10-18T12:23:...|\n",
      "|34b6ba49-972d-4aa...|   c0_3045|0.036666665|   4| client_0|2021-10-18T12:23:...|\n",
      "|7c2e1ff5-a90c-493...|   c0_2890| 0.37333333|   0| client_0|2021-10-18T12:23:...|\n",
      "|7c2e1ff5-a90c-493...|   c0_3080|        0.1|   1| client_0|2021-10-18T12:23:...|\n",
      "|7c2e1ff5-a90c-493...|   c0_2887|0.083333336|   2| client_0|2021-10-18T12:23:...|\n",
      "|7c2e1ff5-a90c-493...|   c0_2817|0.083333336|   3| client_0|2021-10-18T12:23:...|\n",
      "|7c2e1ff5-a90c-493...|   c0_2820|       0.06|   4| client_0|2021-10-18T12:23:...|\n",
      "+--------------------+----------+-----------+----+---------+--------------------+\n",
      "only showing top 20 rows\n",
      "\n"
     ]
    },
    {
     "name": "stderr",
     "output_type": "stream",
     "text": [
      "\r",
      "                                                                                \r"
     ]
    }
   ],
   "source": [
    "categories_df.show()"
   ]
  }
 ],
 "metadata": {
  "kernelspec": {
   "display_name": "Python 3 (ipykernel)",
   "language": "python",
   "name": "python3"
  },
  "language_info": {
   "codemirror_mode": {
    "name": "ipython",
    "version": 3
   },
   "file_extension": ".py",
   "mimetype": "text/x-python",
   "name": "python",
   "nbconvert_exporter": "python",
   "pygments_lexer": "ipython3",
   "version": "3.7.9"
  },
  "toc": {
   "base_numbering": 1,
   "nav_menu": {},
   "number_sections": true,
   "sideBar": true,
   "skip_h1_title": false,
   "title_cell": "Table of Contents",
   "title_sidebar": "Contents",
   "toc_cell": false,
   "toc_position": {},
   "toc_section_display": true,
   "toc_window_display": false
  }
 },
 "nbformat": 4,
 "nbformat_minor": 5
}
